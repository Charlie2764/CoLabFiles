{
  "nbformat": 4,
  "nbformat_minor": 0,
  "metadata": {
    "colab": {
      "provenance": [],
      "include_colab_link": true
    },
    "kernelspec": {
      "name": "python3",
      "display_name": "Python 3"
    },
    "language_info": {
      "name": "python"
    }
  },
  "cells": [
    {
      "cell_type": "markdown",
      "metadata": {
        "id": "view-in-github",
        "colab_type": "text"
      },
      "source": [
        "<a href=\"https://colab.research.google.com/github/Charlie2764/CoLabFiles/blob/main/CM_PHYS325_02_if_else_while_functions.ipynb\" target=\"_parent\"><img src=\"https://colab.research.google.com/assets/colab-badge.svg\" alt=\"Open In Colab\"/></a>"
      ]
    },
    {
      "cell_type": "markdown",
      "source": [
        "There are going to be a lot of situations in which we want the computer to do something only if some condition is met (or to do differing things for different conditions).  You can review the syntax for `if`, `elif`, and `else` at [w3schools](https://www.w3schools.com/python/python_conditions.asp), as well as the sorts of conditions you can check for.\n",
        "\n",
        "Using if/elif/else statement(s) and assorted computations, have the computer print out\n",
        "\n",
        "\n",
        "1. \"All your advisees are physics majors.\" if the number of majors per professor is the same as or larger than the number of advisees.\n",
        "2. \"We need more help with advising.\" if the number of majors per professor exceeds the number of advisees.\n",
        "3. \"On average, you have **AVG** advisees who are physics majors.\" (where AVG represents the average number of advisees who are physics majors per professor) if the number of majors per professor is smaller than the number of advisees.  \n",
        "4. \"Where did the majors disappear to?\" if the number of majors per professor is less than 1.\n",
        "\n",
        "Make sure to test varying numbers of professors, majors, and advisees to verify that it all works."
      ],
      "metadata": {
        "id": "V6kcTrN2Wsu5"
      }
    },
    {
      "cell_type": "code",
      "execution_count": null,
      "metadata": {
        "id": "LkzFjqad9dIY",
        "colab": {
          "base_uri": "https://localhost:8080/"
        },
        "outputId": "628812db-27bc-4eea-9a75-c3f0e3be5e37"
      },
      "outputs": [
        {
          "output_type": "stream",
          "name": "stdout",
          "text": [
            "All your advisees are physics majors.\n",
            "We need more help with advising\n",
            "On average, you have  12.5 advisees who are physics majors.\n"
          ]
        }
      ],
      "source": [
        "#Declare variables\n",
        "number_of_profs=8 #number of professors\n",
        "number_of_majors=100 #number of majors\n",
        "advisees_per_prof=10 #number of advisees per professor\n",
        "#Calc total advisees & avg majors per\n",
        "number_of_advisees = number_of_profs*advisees_per_prof\n",
        "avg_majors = number_of_majors/number_of_advisees*advisees_per_prof\n",
        "#Make comparisons and print messages\n",
        "if number_of_majors >= number_of_advisees:\n",
        "  print(\"All your advisees are physics majors.\")\n",
        "  if number_of_majors > number_of_advisees:\n",
        "    print(\"We need more help with advising\")\n",
        "else:\n",
        "  print(\"On average, you have \", avg_majors, \"advisees who are physics majors.\")\n",
        "  if avg_majors < 1:\n",
        "    print(\"Where did the majors disappear to?\")"
      ]
    },
    {
      "cell_type": "markdown",
      "source": [
        "When we want to make a calculation repeatedly, but only under certain conditions, a `while` loop can be ticket.  You can review the syntax for while at [w3schools](https://www.w3schools.com/python/python_while_loops.asp).\n",
        "\n",
        "Using a while loop (and potentially an if statement) and assorted computations, have the computer print out the values of $2^x$ that are greater than 0 and less than 10,000.  Make it flexible, so that you can change the upper limit simply."
      ],
      "metadata": {
        "id": "LPp4zahVcvZ3"
      }
    },
    {
      "cell_type": "code",
      "source": [
        "\n",
        "x=2\n",
        "i=0 #exclude negative exponents\n",
        "#use variable x to end while loop\n",
        "while x < 10000:\n",
        "  if i == 0:\n",
        "    print(1)\n",
        "  else:\n",
        "    print(x)\n",
        "  i+=1\n",
        "  x= 2**i"
      ],
      "metadata": {
        "id": "7D_nHpeeebcJ",
        "colab": {
          "base_uri": "https://localhost:8080/"
        },
        "outputId": "a5940b1a-8097-4824-80a7-156c5d1a3912"
      },
      "execution_count": null,
      "outputs": [
        {
          "output_type": "stream",
          "name": "stdout",
          "text": [
            "1\n",
            "2\n",
            "4\n",
            "8\n",
            "16\n",
            "32\n",
            "64\n",
            "128\n",
            "256\n",
            "512\n",
            "1024\n",
            "2048\n",
            "4096\n",
            "8192\n"
          ]
        }
      ]
    },
    {
      "cell_type": "markdown",
      "source": [
        "If we want to make a similar computation a bunch of times, we need to define a function (review [here](https://www.w3schools.com/python/python_functions.asp)).  We'll be able to pass our function one or more parameters which it will use.\n",
        "\n",
        "Let's define a function that gives us the position of the cursor [$\\vec{r}(t)= (at + b) \\hat{i} + (ct^2 + d) \\hat{j}$, where $a = 10$ px/s, $b = 150$ px, $c = -2$ px/s/s, and $d = 260$ px] when we pass it a time $t$. Then, define a second function that returns the average velocity of the cursor when we pass it an initial time and a final time."
      ],
      "metadata": {
        "id": "MP8otCWMf0sF"
      }
    },
    {
      "cell_type": "code",
      "source": [
        "#use position function r(t) = (10t+150)i + (-2t^2+260)j\n",
        "def position_function(time):\n",
        "  i_position = 10*time+150\n",
        "  j_position = -2*time**2 +260\n",
        "  return [i_position, j_position]\n",
        "\n",
        "#Use previously defined position function to calculate velocities in x&y directions\n",
        "def avg_velo_function(initial_time, final_time):\n",
        "  initial_position = position_function(initial_time)\n",
        "  final_position = position_function(final_time)\n",
        "  avg_x_velo = (final_position[0] - initial_position[0])/(final_time-initial_time) #Call elements in returned values of position function\n",
        "  avg_y_velo = (final_position[1] - initial_position[1])/(final_time-initial_time)\n",
        "  return [avg_x_velo, avg_y_velo]\n",
        "velo = avg_velo_function(10,15)\n",
        "print(\"x component of velocity: \", velo[0],\"\\ny component of velocity: \", velo[1])"
      ],
      "metadata": {
        "id": "DNTGrjFZf0OJ",
        "colab": {
          "base_uri": "https://localhost:8080/"
        },
        "outputId": "ed2d7e68-52b3-4668-8fc9-15749e7c64a2"
      },
      "execution_count": null,
      "outputs": [
        {
          "output_type": "stream",
          "name": "stdout",
          "text": [
            "x component of velocity:  10.0 \n",
            "y component of velocity:  -50.0\n"
          ]
        }
      ]
    },
    {
      "cell_type": "markdown",
      "source": [
        "Python lets us `import` various modules (code libraries).  One that is likely to be useful is `math`.  \n",
        "\n",
        "If we start our code with `import math` we will have access to trigonometric functions, logarithms, constants like $\\pi$ and $e$, and various other useful computations.  See the [math module documentation](https://www.w3schools.com/python/module_math.asp) to learn what you can do.  \n",
        "\n",
        "Practice using this to calculate the following:\n",
        "\n",
        "\n",
        "1.   $\\sin(\\pi/4)$\n",
        "2.   $\\frac{1}{\\sqrt{2}}$\n",
        "3.   $e^{-1}$\n",
        "4.   $\\arccos(.8)$\n",
        "5.   $\\ln(5)$\n",
        "\n"
      ],
      "metadata": {
        "id": "9Wu-AJ38w8Tx"
      }
    },
    {
      "cell_type": "code",
      "source": [
        "import math as m #Shorten \"call sign\" for math library to \"m\"\n",
        "print(m.sin(m.pi/4))\n",
        "print(1/m.sqrt(2))\n",
        "print(m.exp(-1))\n",
        "print(m.acos(.8))\n",
        "print(m.log(5))"
      ],
      "metadata": {
        "id": "k5m8uXaGzUwv",
        "colab": {
          "base_uri": "https://localhost:8080/"
        },
        "outputId": "0f90f960-1b3a-4c50-9342-d2988e555000"
      },
      "execution_count": null,
      "outputs": [
        {
          "output_type": "stream",
          "name": "stdout",
          "text": [
            "0.7071067811865475\n",
            "0.7071067811865475\n",
            "0.36787944117144233\n",
            "0.6435011087932843\n",
            "1.6094379124341003\n"
          ]
        }
      ]
    },
    {
      "cell_type": "markdown",
      "source": [
        "# **Homework 02**\n",
        "\n",
        "**Problem 1:** Using tools from this lesson, write a program that will output the height of a ball and the time at intervals $\\Delta t=0.10$ s so long as the ball has not yet hit the floor, located at $y_f=0$.  Give the ball an initial height of $y_i = 2.00$ m and an initial upward velocity of $v_{y,i} = 20.0$ m/s.  This motion is occurring on Earth.  Assume no air resistance.  \n",
        "\n",
        "Make your program sufficiently general, so that we can change the initial height, initial $y$-velocity, location of the floor, and length of the time interval.  Display a message in the interval in which the ball turns around."
      ],
      "metadata": {
        "id": "aBH18Qi4juI9"
      }
    },
    {
      "cell_type": "code",
      "source": [
        "#Initialize variables\n",
        "y = 2 # position (meters)\n",
        "v_y_i = 20 #initial velocity (m/s)\n",
        "a_g = -9.81 #constant acceleration (m/s/s)\n",
        "t=0\n",
        "while y>0:\n",
        "  t+=0.1\n",
        "  print(y)\n",
        "  y= 2 + v_y_i*t + (a_g/2)*t**2"
      ],
      "metadata": {
        "id": "hxREtBxLjtKH",
        "colab": {
          "base_uri": "https://localhost:8080/"
        },
        "outputId": "9c6c5ddd-e4f4-4c20-a954-3ed7ffbcc199"
      },
      "execution_count": null,
      "outputs": [
        {
          "output_type": "stream",
          "name": "stdout",
          "text": [
            "2\n",
            "3.95095\n",
            "5.8038\n",
            "7.55855\n",
            "9.2152\n",
            "10.77375\n",
            "12.2342\n",
            "13.59655\n",
            "14.860800000000001\n",
            "16.02695\n",
            "17.095\n",
            "18.064949999999996\n",
            "18.936799999999998\n",
            "19.710549999999998\n",
            "20.386200000000002\n",
            "20.963749999999997\n",
            "21.443200000000004\n",
            "21.82455\n",
            "22.107799999999997\n",
            "22.292950000000005\n",
            "22.38\n",
            "22.368950000000005\n",
            "22.259800000000002\n",
            "22.052549999999997\n",
            "21.747199999999992\n",
            "21.34374999999999\n",
            "20.84219999999999\n",
            "20.242549999999994\n",
            "19.544799999999988\n",
            "18.748949999999994\n",
            "17.85499999999999\n",
            "16.862949999999984\n",
            "15.772799999999982\n",
            "14.584549999999972\n",
            "13.298199999999973\n",
            "11.913749999999965\n",
            "10.431199999999976\n",
            "8.85054999999997\n",
            "7.171799999999962\n",
            "5.394949999999952\n",
            "3.5199999999999534\n",
            "1.546949999999967\n"
          ]
        }
      ]
    },
    {
      "cell_type": "markdown",
      "source": [
        "**Problem 2:** Using tools from this lesson, as well as [user input](https://www.w3schools.com/python/python_user_input.asp), write a program that asks the user to input the initial velocity of the ball (or even all the quantities above).  Have the program output the height and time, but refuse to calculate if the speed of the ball is greater than $6\\times10^7$ m/s (at any point along its path) because relativity will start to make a difference--have it print out an error message alerting the user in that case. Continue to assume no air resistance."
      ],
      "metadata": {
        "id": "ZgpOxaX2pT1x"
      }
    },
    {
      "cell_type": "code",
      "source": [
        "y=2 # reset y\n",
        "t=0\n",
        "v_y_i = float(input(\"Enter initial velocity: \"))\n",
        "# for large initial velocities, gravity may change...\n",
        "big_g = 6.67 * (10**-11) #m^3/(kg*s^2)\n",
        "mass_earth = 5.97*(10**24) #kg\n",
        "radius_earth = 6378*1000 # meters at sea level at equator\n",
        "v = v_y_i\n",
        "while y > 0 :\n",
        "  t+=0.5\n",
        "  print(y)\n",
        "  a_g = -(big_g *(mass_earth) / (radius_earth+y)**2)\n",
        "  v = v_y_i + a_g*t\n",
        "  y = 2 + v_y_i*t + (a_g/2)*t**2\n",
        "  #print error message for too much velocity\n",
        "  if v > 6*10**7:\n",
        "    print(\"Error: Unable to calculate position...velocity is too big, special relativity begins to affect motion\")\n",
        "    y=-1\n",
        "  elif 0.5*v**2 >= big_g*mass_earth/(radius_earth+y):\n",
        "    print(\"Error: Escape Velocity was reached. Y will never be less than 0\")\n",
        "    y=-1\n",
        "\n",
        "\n",
        "\n"
      ],
      "metadata": {
        "id": "jyEvHRq1uBwS",
        "colab": {
          "base_uri": "https://localhost:8080/"
        },
        "outputId": "474bb800-fc6b-4202-f8e7-e397debe0596"
      },
      "execution_count": null,
      "outputs": [
        {
          "output_type": "stream",
          "name": "stdout",
          "text": [
            "Enter initial velocity: 999999999999999\n",
            "2\n",
            "Error: Unable to calculate position...velocity is too big, special relativity begins to affect motion\n"
          ]
        }
      ]
    },
    {
      "cell_type": "markdown",
      "source": [
        "**Problem 3:** Using tools from this lesson, as well as user input, write a program that outputs the $(x,y$) position of a ball moving at constant speed $v$ on a circular path of radius $r$ around the origin at time steps separated by $\\Delta t$ that asks the user to input values for these quantities. Have the program stop after the ball has made a complete revolution about the origin. The program should refuse to calculate if the speed of the ball is greater than  6×107  m/s (at any point along its path) because relativity will start to make a difference. Continue to assume no air resistance."
      ],
      "metadata": {
        "id": "nCvXy_CAzcLY"
      }
    },
    {
      "cell_type": "code",
      "source": [
        "#Gather user inputed parameters\n",
        "import matplotlib.pyplot as plt\n",
        "v = float(input(\"What is the ball's velocity?\"))\n",
        "r = float(input(\"What is the radius of the ball's path?\"))\n",
        "delta_t = float(input(\"At what intervals would you like to know the location of the ball?\"))\n",
        "i_theta = float(input(\"What angle (0-2pi) does the ball start at?\"))\n",
        "theta = 0\n",
        "exes = []\n",
        "whys = []\n",
        "if v > 6*10**7:\n",
        "  theta = 7 #any number greater than 2pi will work here\n",
        "  print(\"Error: Velocity is too large, s[ecial relativity begins to affect motion\")\n",
        "while theta < 2* m.pi :\n",
        "  x = m.cos(i_theta + theta)*r\n",
        "  y = m.sin(i_theta + theta)*r\n",
        "  theta += (v*delta_t)/r\n",
        "  print(\"The ball is at (\" , x , \",\" , y ,\"), theta equals\" , i_theta, \" delta theta equals\" , theta)\n",
        "  exes.append(x)\n",
        "  whys.append(y)\n",
        "if len(exes) > 5: #just make sure it will resemble a circukar shape\n",
        "  plt.plot(exes, whys, 'gs--')\n",
        "  plt.title(\"Radius \" + str(r) + \" path of ball with velocity \" + str(v) + \" and starting position \"+ str(i_theta) , fontsize = 13)\n"
      ],
      "metadata": {
        "id": "yDHHz7_E3B3Z",
        "colab": {
          "base_uri": "https://localhost:8080/",
          "height": 903
        },
        "outputId": "7bcc9b0a-9074-4991-8c2a-1a6e2effb959"
      },
      "execution_count": null,
      "outputs": [
        {
          "output_type": "stream",
          "name": "stdout",
          "text": [
            "What is the ball's velocity?10\n",
            "What is the radius of the ball's path?10\n",
            "At what intervals would you like to know the location of the ball?.3\n",
            "What angle (0-2pi) does the ball start at?2\n",
            "The ball is at ( -4.161468365471424 , 9.092974268256818 ), theta equals 2.0  delta theta equals 0.3\n",
            "The ball is at ( -6.662760212798241 , 7.457052121767203 ), theta equals 2.0  delta theta equals 0.6\n",
            "The ball is at ( -8.568887533689473 , 5.155013718214642 ), theta equals 2.0  delta theta equals 0.8999999999999999\n",
            "The ball is at ( -9.709581651495906 , 2.3924932921398243 ), theta equals 2.0  delta theta equals 1.2\n",
            "The ball is at ( -9.982947757947532 , -0.5837414342758008 ), theta equals 2.0  delta theta equals 1.5\n",
            "The ball is at ( -9.364566872907963 , -3.5078322768961985 ), theta equals 2.0  delta theta equals 1.8\n",
            "The ball is at ( -7.909677119144169 , -6.118578909427189 ), theta equals 2.0  delta theta equals 2.1\n",
            "The ball is at ( -5.748239465332691 , -8.182771110644103 ), theta equals 2.0  delta theta equals 2.4\n",
            "The ball is at ( -3.0733286997841933 , -9.51602073889516 ), theta equals 2.0  delta theta equals 2.6999999999999997\n",
            "The ball is at ( -0.12388663462891447 , -9.999232575641008 ), theta equals 2.0  delta theta equals 2.9999999999999996\n",
            "The ball is at ( 2.8366218546322624 , -9.589242746631385 ), theta equals 2.0  delta theta equals 3.2999999999999994\n",
            "The ball is at ( 5.5437433617916 , -8.322674422239018 ), theta equals 2.0  delta theta equals 3.599999999999999\n",
            "The ball is at ( 7.755658785102496 , -6.3126663787232165 ), theta equals 2.0  delta theta equals 3.899999999999999\n",
            "The ball is at ( 9.274784307440353 , -3.7387666483023767 ), theta equals 2.0  delta theta equals 4.199999999999999\n",
            "The ball is at ( 9.965420970232174 , -0.8308940281749728 ), theta equals 2.0  delta theta equals 4.499999999999999\n",
            "The ball is at ( 9.765876257280237 , 2.1511998808781465 ), theta equals 2.0  delta theta equals 4.799999999999999\n",
            "The ball is at ( 8.693974903498257 , 4.941133511386074 ), theta equals 2.0  delta theta equals 5.099999999999999\n",
            "The ball is at ( 6.845466664428073 , 7.289690401258753 ), theta equals 2.0  delta theta equals 5.399999999999999\n",
            "The ball is at ( 4.385473275743919 , 8.98708095811626 ), theta equals 2.0  delta theta equals 5.699999999999998\n",
            "The ball is at ( 1.533738620378661 , 9.881682338770002 ), theta equals 2.0  delta theta equals 5.999999999999998\n",
            "The ball is at ( -1.4550003380861176 , 9.89358246623382 ), theta equals 2.0  delta theta equals 6.299999999999998\n"
          ]
        },
        {
          "output_type": "execute_result",
          "data": {
            "text/plain": [
              "Text(0.5, 1.0, 'Radius 10.0 path of ball with velocity 10.0 and starting position 2.0')"
            ]
          },
          "metadata": {},
          "execution_count": 18
        },
        {
          "output_type": "display_data",
          "data": {
            "text/plain": [
              "<Figure size 640x480 with 1 Axes>"
            ],
            "image/png": "[encoded data removed]"
          },
          "metadata": {}
        }
      ]
    }
  ]
}